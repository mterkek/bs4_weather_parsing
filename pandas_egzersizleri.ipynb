{
 "cells": [
  {
   "cell_type": "code",
   "execution_count": 39,
   "metadata": {},
   "outputs": [],
   "source": [
    "import pandas as pd\n",
    "import numpy as np"
   ]
  },
  {
   "cell_type": "code",
   "execution_count": 77,
   "metadata": {},
   "outputs": [
    {
     "data": {
      "text/plain": [
       "array([['', 'col1', 'col2'],\n",
       "       ['Row1', '1', '2'],\n",
       "       ['Row2', '3', '5']], dtype='<U4')"
      ]
     },
     "execution_count": 77,
     "metadata": {},
     "output_type": "execute_result"
    }
   ],
   "source": [
    "data = np.array(\n",
    "    [\n",
    "        ['', 'col1', 'col2'],\n",
    "        ['Row1', 1, 2],\n",
    "        ['Row2', 3,5]\n",
    "    ]\n",
    ")\n",
    "\n",
    "df = pd.DataFrame(data=data[1:,1:],\n",
    "                  index=data[1:,0],\n",
    "                  columns=data[0,1:])\n",
    "\n",
    "#data[1:,0]\n",
    "data"
   ]
  },
  {
   "cell_type": "code",
   "execution_count": 78,
   "metadata": {},
   "outputs": [
    {
     "name": "stderr",
     "output_type": "stream",
     "text": [
      "/home/berkay/miniconda3/envs/musti2/lib/python3.7/site-packages/ipykernel_launcher.py:5: VisibleDeprecationWarning: Creating an ndarray from ragged nested sequences (which is a list-or-tuple of lists-or-tuples-or ndarrays with different lengths or shapes) is deprecated. If you meant to do this, you must specify 'dtype=object' when creating the ndarray\n",
      "  \"\"\"\n"
     ]
    },
    {
     "data": {
      "text/plain": [
       "array([list(['KASIM-2020']), list(['1', 1, 2]), list(['2', 17, 2])],\n",
       "      dtype=object)"
      ]
     },
     "execution_count": 78,
     "metadata": {},
     "output_type": "execute_result"
    }
   ],
   "source": [
    "data = np.array(\n",
    "    [\n",
    "        ['KASIM-2020', ],\n",
    "        ['1',1,2],\n",
    "        ['2', 17,2]\n",
    "    ]\n",
    ")\n",
    "\n",
    "data"
   ]
  },
  {
   "cell_type": "code",
   "execution_count": 31,
   "metadata": {},
   "outputs": [
    {
     "data": {
      "text/plain": [
       "35"
      ]
     },
     "execution_count": 31,
     "metadata": {},
     "output_type": "execute_result"
    }
   ],
   "source": [
    "liste = ['15',\n",
    " '17',\n",
    " '17',\n",
    " '15',\n",
    " '16',\n",
    " '16',\n",
    " '17',\n",
    " '18',\n",
    " '19',\n",
    " '16',\n",
    " '17',\n",
    " '17',\n",
    " '17',\n",
    " '13',\n",
    " '15',\n",
    " '15',\n",
    " '16',\n",
    " '15',\n",
    " '13',\n",
    " '13',\n",
    " '15',\n",
    " '12',\n",
    " '13',\n",
    " '12',\n",
    " '13',\n",
    " '14',\n",
    " '--',\n",
    " '16',\n",
    " '--',\n",
    " '16',\n",
    " '16',\n",
    " '10',\n",
    " '13',\n",
    " '16',\n",
    " '18',]\n",
    "len(liste)"
   ]
  },
  {
   "cell_type": "code",
   "execution_count": 32,
   "metadata": {},
   "outputs": [
    {
     "data": {
      "text/plain": [
       "array([['15', '17', '17', '15', '16'],\n",
       "       ['16', '17', '18', '19', '16'],\n",
       "       ['17', '17', '17', '13', '15'],\n",
       "       ['15', '16', '15', '13', '13'],\n",
       "       ['15', '12', '13', '12', '13'],\n",
       "       ['14', '--', '16', '--', '16'],\n",
       "       ['16', '10', '13', '16', '18']], dtype='<U2')"
      ]
     },
     "execution_count": 32,
     "metadata": {},
     "output_type": "execute_result"
    }
   ],
   "source": [
    "import numpy as np\n",
    "arr = np.array(liste)\n",
    "\n",
    "arr.shape\n",
    "arr.reshape(7, 5)"
   ]
  }
 ],
 "metadata": {
  "kernelspec": {
   "display_name": "musti2",
   "language": "python",
   "name": "musti2"
  },
  "language_info": {
   "codemirror_mode": {
    "name": "ipython",
    "version": 3
   },
   "file_extension": ".py",
   "mimetype": "text/x-python",
   "name": "python",
   "nbconvert_exporter": "python",
   "pygments_lexer": "ipython3",
   "version": "3.7.9"
  }
 },
 "nbformat": 4,
 "nbformat_minor": 4
}
