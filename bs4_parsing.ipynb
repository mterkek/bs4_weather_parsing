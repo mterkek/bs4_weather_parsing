{
 "cells": [
  {
   "cell_type": "code",
   "execution_count": 78,
   "metadata": {},
   "outputs": [],
   "source": [
    "### yapılması planlanan\n",
    "# bir şehrin 1 aylık/1 yıllık vs sıcaklık değerlerini bul onların üzerinden işlem yap\n",
    "# en az 500 veri olma gerekliliğini bir şekilde tamamla"
   ]
  },
  {
   "cell_type": "code",
   "execution_count": 79,
   "metadata": {},
   "outputs": [],
   "source": [
    "#bs4 parsing\n",
    "from bs4 import BeautifulSoup as BS\n",
    "import requests\n",
    "import pandas as pd\n",
    "import numpy as np\n",
    "import csv"
   ]
  },
  {
   "cell_type": "code",
   "execution_count": 80,
   "metadata": {
    "scrolled": true
   },
   "outputs": [
    {
     "name": "stdout",
     "output_type": "stream",
     "text": [
      "thumbs up\n"
     ]
    }
   ],
   "source": [
    "# tanımlamalar\n",
    "\n",
    "# url üzerinden site verilerini çek\n",
    "#url = \"https://weather.com/en-IN/weather/tenday/l/453cfbbd56d2feadb92b63729bbdfb0e278db70a2bae2d700e3c2a20c8efb7ae\"\n",
    "url = 'https://weather.com/tr-TR/weather/monthly/l/453cfbbd56d2feadb92b63729bbdfb0e278db70a2bae2d700e3c2a20c8efb7ae'\n",
    "webpage = requests.get(url)\n",
    "\n",
    "# çekilen verileri BS üzerinden tanıml\n",
    "soup = BS(webpage.content, 'html.parser')\n",
    "if soup:\n",
    "    print('thumbs up')"
   ]
  },
  {
   "cell_type": "code",
   "execution_count": 81,
   "metadata": {
    "scrolled": false
   },
   "outputs": [],
   "source": [
    "# defining\n",
    "# yılın hangi ayında olduğunu bul\n",
    "# çıktı: kasım 2020\n",
    "month_of_the_year = soup.find('option', selected=True)\n",
    "\n",
    "# haftanın hangi günü olduğunu bul\n",
    "# çıktı: Pazartesi, Salı, Çarşamba...\n",
    "### !!! günleri for döngüsü içinde komple olarak geçirmek lazım\n",
    "# aksi takdirde sadece bir tane gün değerini gönderiyor\n",
    "# günleri el ile yaz\n",
    "\"\"\"\n",
    "day_of_the_week = soup.find_all('dt')\n",
    "days_name = []\n",
    "for day in day_of_the_week:\n",
    "    days_name.append(day.string)\n",
    "\"\"\"\n",
    "\n",
    "days_name = ['pzrtsi', 'salı', 'çrş', 'prş', 'cuma', 'cts', 'pzr' ]\n",
    "# ayın günlerini al (hepsini, aylık gösterim olacağından dolayı)\n",
    "# çıktı: 1, 2, 3..\n",
    "alldays = soup.find_all('div', attrs={'class': 'date'})\n",
    "\n",
    "# alınan günlerde yaşanan sıcaklıklar\n",
    "alltemp = soup.find_all('div', attrs={'class': 'temp hi'})\n",
    "\n",
    "\n",
    "#spliting\n",
    "# KASIM 2020\n",
    "month = month_of_the_year.text.split()\n",
    "# 1, 2, 3\n",
    "dayList = [x.text for x in alldays]\n",
    "# 15, 17, 14, 15\n",
    "dayTemp = [x.text for x in alltemp]\n",
    "remove_sign = lambda x: x.replace(\"°\",\"\")\n",
    "dayTemp = list(map(remove_sign, dayTemp))\n",
    "del dayTemp[-1]\n"
   ]
  },
  {
   "cell_type": "code",
   "execution_count": 82,
   "metadata": {},
   "outputs": [
    {
     "data": {
      "text/plain": [
       "\"\\nindex_label = KASIM-2020 -> bunu csv'ye yazarken yazacağız\\nindex = 1,2,3,4\\ncolumn = pz, pzts, salı, çarş\\ndata = 15, 14, 15, 16\\n\""
      ]
     },
     "execution_count": 82,
     "metadata": {},
     "output_type": "execute_result"
    }
   ],
   "source": [
    "\"\"\"\n",
    "index_label = KASIM-2020 -> bunu csv'ye yazarken yazacağız\n",
    "index = 1,2,3,4\n",
    "column = pz, pzts, salı, çarş\n",
    "data = 15, 14, 15, 16\n",
    "\"\"\"\n"
   ]
  },
  {
   "cell_type": "code",
   "execution_count": 83,
   "metadata": {},
   "outputs": [],
   "source": [
    "# günleri en tepedeki title satırınına yazdırdıktan sonra\n",
    "# her bir gün değeri için 7'de birini yazdır"
   ]
  },
  {
   "cell_type": "code",
   "execution_count": 84,
   "metadata": {},
   "outputs": [],
   "source": [
    "arr = np.array(dayTemp)\n",
    "arr = arr.reshape(5,7)\n"
   ]
  },
  {
   "cell_type": "code",
   "execution_count": 85,
   "metadata": {},
   "outputs": [
    {
     "data": {
      "text/html": [
       "<div>\n",
       "<style scoped>\n",
       "    .dataframe tbody tr th:only-of-type {\n",
       "        vertical-align: middle;\n",
       "    }\n",
       "\n",
       "    .dataframe tbody tr th {\n",
       "        vertical-align: top;\n",
       "    }\n",
       "\n",
       "    .dataframe thead th {\n",
       "        text-align: right;\n",
       "    }\n",
       "</style>\n",
       "<table border=\"1\" class=\"dataframe\">\n",
       "  <thead>\n",
       "    <tr style=\"text-align: right;\">\n",
       "      <th></th>\n",
       "      <th>pzrtsi</th>\n",
       "      <th>salı</th>\n",
       "      <th>çrş</th>\n",
       "      <th>prş</th>\n",
       "      <th>cuma</th>\n",
       "      <th>cts</th>\n",
       "      <th>pzr</th>\n",
       "    </tr>\n",
       "  </thead>\n",
       "  <tbody>\n",
       "    <tr>\n",
       "      <th>0</th>\n",
       "      <td>15</td>\n",
       "      <td>17</td>\n",
       "      <td>17</td>\n",
       "      <td>15</td>\n",
       "      <td>16</td>\n",
       "      <td>16</td>\n",
       "      <td>17</td>\n",
       "    </tr>\n",
       "    <tr>\n",
       "      <th>1</th>\n",
       "      <td>18</td>\n",
       "      <td>19</td>\n",
       "      <td>16</td>\n",
       "      <td>17</td>\n",
       "      <td>17</td>\n",
       "      <td>17</td>\n",
       "      <td>13</td>\n",
       "    </tr>\n",
       "    <tr>\n",
       "      <th>2</th>\n",
       "      <td>15</td>\n",
       "      <td>15</td>\n",
       "      <td>16</td>\n",
       "      <td>15</td>\n",
       "      <td>13</td>\n",
       "      <td>13</td>\n",
       "      <td>15</td>\n",
       "    </tr>\n",
       "    <tr>\n",
       "      <th>3</th>\n",
       "      <td>12</td>\n",
       "      <td>13</td>\n",
       "      <td>12</td>\n",
       "      <td>13</td>\n",
       "      <td>14</td>\n",
       "      <td>16</td>\n",
       "      <td>16</td>\n",
       "    </tr>\n",
       "    <tr>\n",
       "      <th>4</th>\n",
       "      <td>16</td>\n",
       "      <td>16</td>\n",
       "      <td>16</td>\n",
       "      <td>10</td>\n",
       "      <td>13</td>\n",
       "      <td>16</td>\n",
       "      <td>18</td>\n",
       "    </tr>\n",
       "  </tbody>\n",
       "</table>\n",
       "</div>"
      ],
      "text/plain": [
       "  pzrtsi salı çrş prş cuma cts pzr\n",
       "0     15   17  17  15   16  16  17\n",
       "1     18   19  16  17   17  17  13\n",
       "2     15   15  16  15   13  13  15\n",
       "3     12   13  12  13   14  16  16\n",
       "4     16   16  16  10   13  16  18"
      ]
     },
     "execution_count": 85,
     "metadata": {},
     "output_type": "execute_result"
    }
   ],
   "source": [
    "df = pd.DataFrame(arr, columns= days_name)\n",
    "df"
   ]
  }
 ],
 "metadata": {
  "kernelspec": {
   "display_name": "musti2",
   "language": "python",
   "name": "musti2"
  },
  "language_info": {
   "codemirror_mode": {
    "name": "ipython",
    "version": 3
   },
   "file_extension": ".py",
   "mimetype": "text/x-python",
   "name": "python",
   "nbconvert_exporter": "python",
   "pygments_lexer": "ipython3",
   "version": "3.7.9"
  }
 },
 "nbformat": 4,
 "nbformat_minor": 4
}
