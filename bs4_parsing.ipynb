{
 "cells": [
  {
   "cell_type": "code",
   "execution_count": 57,
   "metadata": {},
   "outputs": [],
   "source": [
    "### yapılması planlanan\n",
    "# bir şehrin 1 aylık/1 yıllık vs sıcaklık değerlerini bul onların üzerinden işlem yap\n",
    "# en az 500 veri olma gerekliliğini bir şekilde tamamla"
   ]
  },
  {
   "cell_type": "code",
   "execution_count": 58,
   "metadata": {},
   "outputs": [],
   "source": [
    "#bs4 parsing\n",
    "from bs4 import BeautifulSoup as BS\n",
    "import requests\n",
    "import pandas as pd\n",
    "import numpy as np\n",
    "import csv"
   ]
  },
  {
   "cell_type": "code",
   "execution_count": 59,
   "metadata": {
    "scrolled": true
   },
   "outputs": [
    {
     "name": "stdout",
     "output_type": "stream",
     "text": [
      "thumbs up\n"
     ]
    }
   ],
   "source": [
    "# tanımlamalar\n",
    "\n",
    "# url üzerinden site verilerini çek\n",
    "#url = \"https://weather.com/en-IN/weather/tenday/l/453cfbbd56d2feadb92b63729bbdfb0e278db70a2bae2d700e3c2a20c8efb7ae\"\n",
    "url = 'https://weather.com/tr-TR/weather/monthly/l/453cfbbd56d2feadb92b63729bbdfb0e278db70a2bae2d700e3c2a20c8efb7ae'\n",
    "webpage = requests.get(url)\n",
    "\n",
    "# çekilen verileri BS üzerinden tanıml\n",
    "soup = BS(webpage.content, 'html.parser')\n",
    "if soup:\n",
    "    print('thumbs up')"
   ]
  },
  {
   "cell_type": "code",
   "execution_count": 60,
   "metadata": {},
   "outputs": [],
   "source": [
    "# defining\n",
    "# yılın hangi ayında olduğunu bul\n",
    "# çıktı: kasım 2020\n",
    "month_of_the_year = soup.find('option', selected=True)\n",
    "\n",
    "# haftanın hangi günü olduğunu bul\n",
    "# çıktı: Pazartesi, Salı, Çarşamba...\n",
    "### !!! günleri for döngüsü içinde komple olarak geçirmek lazım\n",
    "# aksi takdirde sadece bir tane gün değerini gönderiyor\n",
    "day_of_the_week = soup.find_all('dt')\n",
    "days_name = []\n",
    "for day in day_of_the_week:\n",
    "    days_name.append(day.string)\n",
    "\n",
    "# ayın günlerini al (hepsini, aylık gösterim olacağından dolayı)\n",
    "# çıktı: 1, 2, 3..\n",
    "dayCells = soup.find_all('div', attrs={'class': 'date'})\n",
    "\n",
    "# alınan günlerde yaşanan sıcaklıklar\n",
    "dayTemps = soup.find_all('div', attrs={'class': 'temp hi'})\n",
    "\n",
    "\n",
    "#spliting\n",
    "# KASIM 2020\n",
    "month = month_of_the_year.text.split()\n",
    "# 1, 2, 3\n",
    "dayList = [x.text for x in dayCells]\n",
    "# 15, 17, 14, 15\n",
    "dayTemp = [x.text for x in dayTemps]\n",
    "\n",
    "# belirli günleri ve o günlerdeki sıcaklıkları index temelli olarak birleştir\n",
    "#indexler = list(zip(month, dayList))"
   ]
  },
  {
   "cell_type": "code",
   "execution_count": 61,
   "metadata": {},
   "outputs": [
    {
     "data": {
      "text/plain": [
       "35"
      ]
     },
     "execution_count": 61,
     "metadata": {},
     "output_type": "execute_result"
    }
   ],
   "source": [
    "\"\"\"\n",
    "index_label = KASIM-2020 -> bunu csv'ye yazarken yazacağız\n",
    "index = 1,2,3,4\n",
    "column = pz, pzts, salı, çarş\n",
    "data = 15, 14, 15, 16\n",
    "\"\"\"\n",
    "\n",
    "df = pd.DataFrame()"
   ]
  },
  {
   "cell_type": "code",
   "execution_count": 62,
   "metadata": {},
   "outputs": [
    {
     "data": {
      "text/html": [
       "<div>\n",
       "<style scoped>\n",
       "    .dataframe tbody tr th:only-of-type {\n",
       "        vertical-align: middle;\n",
       "    }\n",
       "\n",
       "    .dataframe tbody tr th {\n",
       "        vertical-align: top;\n",
       "    }\n",
       "\n",
       "    .dataframe thead th {\n",
       "        text-align: right;\n",
       "    }\n",
       "</style>\n",
       "<table border=\"1\" class=\"dataframe\">\n",
       "  <thead>\n",
       "    <tr style=\"text-align: right;\">\n",
       "      <th></th>\n",
       "      <th>pz.</th>\n",
       "      <th>pts.</th>\n",
       "      <th>sa.</th>\n",
       "      <th>çarş.</th>\n",
       "      <th>perş.</th>\n",
       "      <th>cu.</th>\n",
       "      <th>cmt.</th>\n",
       "    </tr>\n",
       "  </thead>\n",
       "  <tbody>\n",
       "  </tbody>\n",
       "</table>\n",
       "</div>"
      ],
      "text/plain": [
       "Empty DataFrame\n",
       "Columns: [pz., pts., sa., çarş., perş., cu., cmt.]\n",
       "Index: []"
      ]
     },
     "execution_count": 62,
     "metadata": {},
     "output_type": "execute_result"
    }
   ],
   "source": [
    "csv_file = pd.read_csv('veriler.csv')\n",
    "csv_file.head()"
   ]
  }
 ],
 "metadata": {
  "kernelspec": {
   "display_name": "musti2",
   "language": "python",
   "name": "musti2"
  },
  "language_info": {
   "codemirror_mode": {
    "name": "ipython",
    "version": 3
   },
   "file_extension": ".py",
   "mimetype": "text/x-python",
   "name": "python",
   "nbconvert_exporter": "python",
   "pygments_lexer": "ipython3",
   "version": "3.7.9"
  }
 },
 "nbformat": 4,
 "nbformat_minor": 4
}
