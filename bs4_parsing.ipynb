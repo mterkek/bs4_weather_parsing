{
 "cells": [
  {
   "cell_type": "code",
   "execution_count": 112,
   "metadata": {},
   "outputs": [],
   "source": [
    "### yapılması planlanan\n",
    "# bir şehrin 1 aylık/1 yıllık vs sıcaklık değerlerini bul onların üzerinden işlem yap\n",
    "# en az 500 veri olma gerekliliğini bir şekilde tamamla"
   ]
  },
  {
   "cell_type": "code",
   "execution_count": 113,
   "metadata": {},
   "outputs": [],
   "source": [
    "#bs4 parsing\n",
    "from bs4 import BeautifulSoup as BS\n",
    "import requests\n",
    "import pandas as pd"
   ]
  },
  {
   "cell_type": "code",
   "execution_count": 114,
   "metadata": {
    "scrolled": true
   },
   "outputs": [
    {
     "name": "stdout",
     "output_type": "stream",
     "text": [
      "thumbs up\n"
     ]
    }
   ],
   "source": [
    "# tanımlamalar\n",
    "\n",
    "# url üzerinden site verilerini çek\n",
    "#url = \"https://weather.com/en-IN/weather/tenday/l/453cfbbd56d2feadb92b63729bbdfb0e278db70a2bae2d700e3c2a20c8efb7ae\"\n",
    "url = 'https://weather.com/tr-TR/weather/monthly/l/453cfbbd56d2feadb92b63729bbdfb0e278db70a2bae2d700e3c2a20c8efb7ae'\n",
    "webpage = requests.get(url)\n",
    "\n",
    "# çekilen verileri BS üzerinden tanıml\n",
    "soup = BS(webpage.content, 'html.parser')\n",
    "if soup:\n",
    "    print('thumbs up')"
   ]
  },
  {
   "cell_type": "code",
   "execution_count": 117,
   "metadata": {},
   "outputs": [
    {
     "data": {
      "text/plain": [
       "['Kas.', '2020']"
      ]
     },
     "execution_count": 117,
     "metadata": {},
     "output_type": "execute_result"
    }
   ],
   "source": [
    "# defining\n",
    "# yılın hangi ayında olduğunu bul\n",
    "# çıktı: kasım 2020\n",
    "month_of_the_year = soup.find('option', selected=True)\n",
    "\n",
    "# haftanın hangi günü olduğunu bul\n",
    "# çıktı: Pazartesi, Salı, Çarşamba...\n",
    "### !!! günleri for döngüsü içinde komple olarak geçirmek lazım\n",
    "# aksi takdirde sadece bir tane gün değerini gönderiyor\n",
    "day_of_the_week = soup.find_all('dt')\n",
    "days_name = []\n",
    "for day in day_of_the_week:\n",
    "    days_name.append(day.string)\n",
    "\n",
    "# ayın günlerini al (hepsini, aylık gösterim olacağından dolayı)\n",
    "# çıktı: 1, 2, 3..\n",
    "dayCells = soup.find_all('div', attrs={'class': 'date'})\n",
    "\n",
    "# alınan günlerde yaşanan sıcaklıklar\n",
    "dayTemps = soup.find_all('div', attrs={'class': 'temp hi'})\n",
    "\n",
    "\n",
    "#spliting\n",
    "month = month_of_the_year.text.split()\n",
    "dayList = [x.text for x in dayCells]\n",
    "dayTemp = [x.text for x in dayTemps]\n",
    "\n",
    "# belirli günleri ve o günlerdeki sıcaklıkları index temelli olarak birleştir\n",
    "day_temp = list(zip(dayList, dayTemp))\n",
    "\n",
    "\n",
    "\n",
    "#calling\n",
    "month\n",
    "#day_temp\n",
    "#days_name"
   ]
  },
  {
   "cell_type": "code",
   "execution_count": null,
   "metadata": {},
   "outputs": [],
   "source": []
  }
 ],
 "metadata": {
  "kernelspec": {
   "display_name": "musti2",
   "language": "python",
   "name": "musti2"
  },
  "language_info": {
   "codemirror_mode": {
    "name": "ipython",
    "version": 3
   },
   "file_extension": ".py",
   "mimetype": "text/x-python",
   "name": "python",
   "nbconvert_exporter": "python",
   "pygments_lexer": "ipython3",
   "version": "3.7.9"
  }
 },
 "nbformat": 4,
 "nbformat_minor": 4
}
